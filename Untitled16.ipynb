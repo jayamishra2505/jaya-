{
  "nbformat": 4,
  "nbformat_minor": 0,
  "metadata": {
    "colab": {
      "provenance": [],
      "authorship_tag": "ABX9TyP3PwydaOlS89ZfTXf4eWuH",
      "include_colab_link": true
    },
    "kernelspec": {
      "name": "python3",
      "display_name": "Python 3"
    },
    "language_info": {
      "name": "python"
    }
  },
  "cells": [
    {
      "cell_type": "markdown",
      "metadata": {
        "id": "view-in-github",
        "colab_type": "text"
      },
      "source": [
        "<a href=\"https://colab.research.google.com/github/jayamishra2505/jaya-/blob/main/Untitled16.ipynb\" target=\"_parent\"><img src=\"https://colab.research.google.com/assets/colab-badge.svg\" alt=\"Open In Colab\"/></a>"
      ]
    },
    {
      "cell_type": "code",
      "source": [
        "!pip install requests beautifulsoup4 pandas\n",
        "\n",
        "import requests\n",
        "from bs4 import BeautifulSoup\n",
        "import pandas as pd\n",
        "\n",
        "\n",
        "base_url = \"https://irdai.gov.in/list-of-brokers\"\n",
        "\n",
        "\n",
        "def get_soup(url):\n",
        "    response = requests.get(url)\n",
        "    return BeautifulSoup(response.content, \"html.parser\")\n",
        "\n",
        "\n",
        "def extract_data(soup):\n",
        "    data = []\n",
        "    headers = []\n",
        "    table = soup.find(\"table\")\n",
        "    if table:\n",
        "\n",
        "        header_row = table.find(\"tr\")\n",
        "        headers = [th.get_text(strip=True) for th in header_row.find_all(\"th\")]\n",
        "\n",
        "\n",
        "        rows = table.find_all(\"tr\")[1:]\n",
        "        for row in rows:\n",
        "            cells = row.find_all(\"td\")\n",
        "            data.append([cell.get_text(strip=True) for cell in cells])\n",
        "    return headers, data\n",
        "\n",
        "\n",
        "def get_all_page_urls(base_url, total_pages=10):\n",
        "    urls = [base_url]\n",
        "    for i in range(1, total_pages):\n",
        "        page_url = f\"{base_url}?page={i}\"\n",
        "        urls.append(page_url)\n",
        "    return urls\n",
        "\n",
        "\n",
        "def scrape_all_pages(base_url, total_pages=10):\n",
        "    urls = get_all_page_urls(base_url, total_pages)\n",
        "    all_data = []\n",
        "    headers = []\n",
        "    for url in urls:\n",
        "        print(f\"Scraping URL: {url}\")\n",
        "        soup = get_soup(url)\n",
        "        page_headers, page_data = extract_data(soup)\n",
        "        if not headers:\n",
        "            headers = page_headers\n",
        "        all_data.extend(page_data)\n",
        "    return headers, all_data\n",
        "\n",
        "\n",
        "if __name__ == \"__main__\":\n",
        "    headers, data = scrape_all_pages(base_url, total_pages=11)\n",
        "\n",
        "\n",
        "    df = pd.DataFrame(data, columns=headers)\n",
        "\n",
        "\n",
        "    df.to_csv('scraped_data.csv', index=False)\n",
        "    print(\"Data saved to scraped_data.csv\")\n"
      ],
      "metadata": {
        "colab": {
          "base_uri": "https://localhost:8080/"
        },
        "id": "dnO3QssYpbL1",
        "outputId": "775ee98f-8c42-4a72-b417-cc338afd5dc2"
      },
      "execution_count": 65,
      "outputs": [
        {
          "output_type": "stream",
          "name": "stdout",
          "text": [
            "Requirement already satisfied: requests in /usr/local/lib/python3.10/dist-packages (2.31.0)\n",
            "Requirement already satisfied: beautifulsoup4 in /usr/local/lib/python3.10/dist-packages (4.12.3)\n",
            "Requirement already satisfied: pandas in /usr/local/lib/python3.10/dist-packages (2.0.3)\n",
            "Requirement already satisfied: charset-normalizer<4,>=2 in /usr/local/lib/python3.10/dist-packages (from requests) (3.3.2)\n",
            "Requirement already satisfied: idna<4,>=2.5 in /usr/local/lib/python3.10/dist-packages (from requests) (3.7)\n",
            "Requirement already satisfied: urllib3<3,>=1.21.1 in /usr/local/lib/python3.10/dist-packages (from requests) (2.0.7)\n",
            "Requirement already satisfied: certifi>=2017.4.17 in /usr/local/lib/python3.10/dist-packages (from requests) (2024.6.2)\n",
            "Requirement already satisfied: soupsieve>1.2 in /usr/local/lib/python3.10/dist-packages (from beautifulsoup4) (2.5)\n",
            "Requirement already satisfied: python-dateutil>=2.8.2 in /usr/local/lib/python3.10/dist-packages (from pandas) (2.8.2)\n",
            "Requirement already satisfied: pytz>=2020.1 in /usr/local/lib/python3.10/dist-packages (from pandas) (2023.4)\n",
            "Requirement already satisfied: tzdata>=2022.1 in /usr/local/lib/python3.10/dist-packages (from pandas) (2024.1)\n",
            "Requirement already satisfied: numpy>=1.21.0 in /usr/local/lib/python3.10/dist-packages (from pandas) (1.25.2)\n",
            "Requirement already satisfied: six>=1.5 in /usr/local/lib/python3.10/dist-packages (from python-dateutil>=2.8.2->pandas) (1.16.0)\n",
            "Scraping URL: https://irdai.gov.in/list-of-brokers\n",
            "Scraping URL: https://irdai.gov.in/list-of-brokers?page=1\n",
            "Scraping URL: https://irdai.gov.in/list-of-brokers?page=2\n",
            "Scraping URL: https://irdai.gov.in/list-of-brokers?page=3\n",
            "Scraping URL: https://irdai.gov.in/list-of-brokers?page=4\n",
            "Scraping URL: https://irdai.gov.in/list-of-brokers?page=5\n",
            "Scraping URL: https://irdai.gov.in/list-of-brokers?page=6\n",
            "Scraping URL: https://irdai.gov.in/list-of-brokers?page=7\n",
            "Scraping URL: https://irdai.gov.in/list-of-brokers?page=8\n",
            "Scraping URL: https://irdai.gov.in/list-of-brokers?page=9\n",
            "Scraping URL: https://irdai.gov.in/list-of-brokers?page=10\n",
            "Data saved to scraped_data.csv\n"
          ]
        }
      ]
    },
    {
      "cell_type": "code",
      "source": [
        "from google.colab import files"
      ],
      "metadata": {
        "id": "pDNQPp6CqLvh"
      },
      "execution_count": 66,
      "outputs": []
    },
    {
      "cell_type": "code",
      "source": [
        "files.download('scraped_data.csv')"
      ],
      "metadata": {
        "colab": {
          "base_uri": "https://localhost:8080/",
          "height": 17
        },
        "id": "YSsfoBJHqRhM",
        "outputId": "a75413d4-9fa0-4d94-b80e-6bd9f299f27b"
      },
      "execution_count": 67,
      "outputs": [
        {
          "output_type": "display_data",
          "data": {
            "text/plain": [
              "<IPython.core.display.Javascript object>"
            ],
            "application/javascript": [
              "\n",
              "    async function download(id, filename, size) {\n",
              "      if (!google.colab.kernel.accessAllowed) {\n",
              "        return;\n",
              "      }\n",
              "      const div = document.createElement('div');\n",
              "      const label = document.createElement('label');\n",
              "      label.textContent = `Downloading \"${filename}\": `;\n",
              "      div.appendChild(label);\n",
              "      const progress = document.createElement('progress');\n",
              "      progress.max = size;\n",
              "      div.appendChild(progress);\n",
              "      document.body.appendChild(div);\n",
              "\n",
              "      const buffers = [];\n",
              "      let downloaded = 0;\n",
              "\n",
              "      const channel = await google.colab.kernel.comms.open(id);\n",
              "      // Send a message to notify the kernel that we're ready.\n",
              "      channel.send({})\n",
              "\n",
              "      for await (const message of channel.messages) {\n",
              "        // Send a message to notify the kernel that we're ready.\n",
              "        channel.send({})\n",
              "        if (message.buffers) {\n",
              "          for (const buffer of message.buffers) {\n",
              "            buffers.push(buffer);\n",
              "            downloaded += buffer.byteLength;\n",
              "            progress.value = downloaded;\n",
              "          }\n",
              "        }\n",
              "      }\n",
              "      const blob = new Blob(buffers, {type: 'application/binary'});\n",
              "      const a = document.createElement('a');\n",
              "      a.href = window.URL.createObjectURL(blob);\n",
              "      a.download = filename;\n",
              "      div.appendChild(a);\n",
              "      a.click();\n",
              "      div.remove();\n",
              "    }\n",
              "  "
            ]
          },
          "metadata": {}
        },
        {
          "output_type": "display_data",
          "data": {
            "text/plain": [
              "<IPython.core.display.Javascript object>"
            ],
            "application/javascript": [
              "download(\"download_30201832-1c5d-43cd-9e6a-dd9e47563ce7\", \"scraped_data.csv\", 1740332)"
            ]
          },
          "metadata": {}
        }
      ]
    }
  ]
}